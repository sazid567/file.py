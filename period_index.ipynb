{
 "cells": [
  {
   "cell_type": "code",
   "execution_count": 1,
   "id": "4b059a47-e5e4-4bcc-a800-8c0952459fb6",
   "metadata": {},
   "outputs": [
    {
     "name": "stderr",
     "output_type": "stream",
     "text": [
      "C:\\Users\\Administrator\\AppData\\Local\\Temp\\ipykernel_12464\\208711435.py:3: FutureWarning: errors='ignore' is deprecated and will raise in a future version. Use to_datetime without passing `errors` and catch exceptions explicitly instead\n",
      "  pd.to_datetime(dates,errors= 'ignore')\n",
      "C:\\Users\\Administrator\\AppData\\Local\\Temp\\ipykernel_12464\\208711435.py:3: UserWarning: Could not infer format, so each element will be parsed individually, falling back to `dateutil`. To ensure parsing is consistent and as-expected, please specify a format.\n",
      "  pd.to_datetime(dates,errors= 'ignore')\n"
     ]
    },
    {
     "data": {
      "text/plain": [
       "Index(['2022/02/06 3:30:00 PM', 'february 03, 2022 14:30', 'abc'], dtype='object')"
      ]
     },
     "execution_count": 1,
     "metadata": {},
     "output_type": "execute_result"
    }
   ],
   "source": [
    "import pandas as pd\n",
    "dates = ['2022/02/06 3:30:00 PM','february 03, 2022 14:30','abc']\n",
    "pd.to_datetime(dates,errors= 'ignore')"
   ]
  },
  {
   "cell_type": "code",
   "execution_count": 2,
   "id": "dcc572fb-344d-4ea2-89f6-a8b7714237bc",
   "metadata": {},
   "outputs": [
    {
     "data": {
      "text/plain": [
       "DatetimeIndex(['2024-04-14 08:47:26'], dtype='datetime64[ns]', freq=None)"
      ]
     },
     "execution_count": 2,
     "metadata": {},
     "output_type": "execute_result"
    }
   ],
   "source": [
    "t = 1713084446\n",
    "dt = pd.to_datetime([t], unit='s')\n",
    "dt"
   ]
  },
  {
   "cell_type": "code",
   "execution_count": 3,
   "id": "eff7f367-eda3-49b3-b3e7-eaaef05e72c4",
   "metadata": {},
   "outputs": [
    {
     "data": {
      "text/plain": [
       "array([1713084446000000000], dtype=int64)"
      ]
     },
     "execution_count": 3,
     "metadata": {},
     "output_type": "execute_result"
    }
   ],
   "source": [
    "dt.view('int64')"
   ]
  },
  {
   "cell_type": "code",
   "execution_count": 4,
   "id": "e0af5240-fcb2-42d1-aa49-5420653bd562",
   "metadata": {},
   "outputs": [
    {
     "data": {
      "text/plain": [
       "Period('2024', 'Y-DEC')"
      ]
     },
     "execution_count": 4,
     "metadata": {},
     "output_type": "execute_result"
    }
   ],
   "source": [
    "a=pd.Period('2024')\n",
    "a"
   ]
  },
  {
   "cell_type": "code",
   "execution_count": 5,
   "id": "6cb3354c-3cb7-49ae-b03c-fcd8f87c11ac",
   "metadata": {},
   "outputs": [
    {
     "data": {
      "text/plain": [
       "['__add__',\n",
       " '__array_priority__',\n",
       " '__class__',\n",
       " '__delattr__',\n",
       " '__dict__',\n",
       " '__dir__',\n",
       " '__doc__',\n",
       " '__eq__',\n",
       " '__format__',\n",
       " '__ge__',\n",
       " '__getattribute__',\n",
       " '__getstate__',\n",
       " '__gt__',\n",
       " '__hash__',\n",
       " '__init__',\n",
       " '__init_subclass__',\n",
       " '__le__',\n",
       " '__lt__',\n",
       " '__module__',\n",
       " '__ne__',\n",
       " '__new__',\n",
       " '__radd__',\n",
       " '__reduce__',\n",
       " '__reduce_cython__',\n",
       " '__reduce_ex__',\n",
       " '__repr__',\n",
       " '__rsub__',\n",
       " '__setattr__',\n",
       " '__setstate__',\n",
       " '__setstate_cython__',\n",
       " '__sizeof__',\n",
       " '__str__',\n",
       " '__sub__',\n",
       " '__subclasshook__',\n",
       " '__weakref__',\n",
       " '_add_offset',\n",
       " '_add_timedeltalike_scalar',\n",
       " '_dtype',\n",
       " '_from_ordinal',\n",
       " '_maybe_convert_freq',\n",
       " '_require_matching_freq',\n",
       " 'asfreq',\n",
       " 'day',\n",
       " 'day_of_week',\n",
       " 'day_of_year',\n",
       " 'dayofweek',\n",
       " 'dayofyear',\n",
       " 'days_in_month',\n",
       " 'daysinmonth',\n",
       " 'end_time',\n",
       " 'freq',\n",
       " 'freqstr',\n",
       " 'hour',\n",
       " 'is_leap_year',\n",
       " 'minute',\n",
       " 'month',\n",
       " 'now',\n",
       " 'ordinal',\n",
       " 'quarter',\n",
       " 'qyear',\n",
       " 'second',\n",
       " 'start_time',\n",
       " 'strftime',\n",
       " 'to_timestamp',\n",
       " 'week',\n",
       " 'weekday',\n",
       " 'weekofyear',\n",
       " 'year']"
      ]
     },
     "execution_count": 5,
     "metadata": {},
     "output_type": "execute_result"
    }
   ],
   "source": [
    "dir(a)"
   ]
  },
  {
   "cell_type": "code",
   "execution_count": 6,
   "id": "eb3148a8-ab16-418d-821b-43606d3bc6d8",
   "metadata": {},
   "outputs": [
    {
     "data": {
      "text/plain": [
       "Timestamp('2024-01-01 00:00:00')"
      ]
     },
     "execution_count": 6,
     "metadata": {},
     "output_type": "execute_result"
    }
   ],
   "source": [
    "a.start_time"
   ]
  },
  {
   "cell_type": "code",
   "execution_count": 7,
   "id": "2c973e3c-2128-4f20-9989-3a96f1186015",
   "metadata": {},
   "outputs": [
    {
     "data": {
      "text/plain": [
       "Timestamp('2024-12-31 23:59:59.999999999')"
      ]
     },
     "execution_count": 7,
     "metadata": {},
     "output_type": "execute_result"
    }
   ],
   "source": [
    "a.end_time"
   ]
  },
  {
   "cell_type": "code",
   "execution_count": 8,
   "id": "94784db3-b133-4413-880c-872bf3e88009",
   "metadata": {},
   "outputs": [
    {
     "data": {
      "text/plain": [
       "Period('2020-02-01', 'D')"
      ]
     },
     "execution_count": 8,
     "metadata": {},
     "output_type": "execute_result"
    }
   ],
   "source": [
    "m=pd.Period('2020/02',freq='D')\n",
    "m"
   ]
  },
  {
   "cell_type": "code",
   "execution_count": 9,
   "id": "d0f131b3-0c29-4e33-a241-83b27f550cca",
   "metadata": {},
   "outputs": [
    {
     "data": {
      "text/plain": [
       "Timestamp('2020-02-01 00:00:00')"
      ]
     },
     "execution_count": 9,
     "metadata": {},
     "output_type": "execute_result"
    }
   ],
   "source": [
    "m.start_time"
   ]
  },
  {
   "cell_type": "code",
   "execution_count": 10,
   "id": "ea540ccf-13fc-4580-8b96-c7ac25c01f73",
   "metadata": {},
   "outputs": [
    {
     "data": {
      "text/plain": [
       "Timestamp('2020-02-01 23:59:59.999999999')"
      ]
     },
     "execution_count": 10,
     "metadata": {},
     "output_type": "execute_result"
    }
   ],
   "source": [
    "m.end_time"
   ]
  },
  {
   "cell_type": "code",
   "execution_count": 11,
   "id": "32c19598-e4c0-41c9-9367-f8b1cda625ee",
   "metadata": {},
   "outputs": [
    {
     "data": {
      "text/plain": [
       "Period('2020-02-02', 'D')"
      ]
     },
     "execution_count": 11,
     "metadata": {},
     "output_type": "execute_result"
    }
   ],
   "source": [
    "m+1"
   ]
  },
  {
   "cell_type": "code",
   "execution_count": 12,
   "id": "b8586384-60d8-4491-9019-341966aae645",
   "metadata": {},
   "outputs": [
    {
     "data": {
      "text/plain": [
       "Period('2020-02-02', 'D')"
      ]
     },
     "execution_count": 12,
     "metadata": {},
     "output_type": "execute_result"
    }
   ],
   "source": [
    "m+pd.offsets.Day(1)"
   ]
  },
  {
   "cell_type": "code",
   "execution_count": 13,
   "id": "0dc9eb05-f642-4ce8-ab62-35923eb96895",
   "metadata": {},
   "outputs": [
    {
     "data": {
      "text/plain": [
       "Period('2026', 'Y-JUL')"
      ]
     },
     "execution_count": 13,
     "metadata": {},
     "output_type": "execute_result"
    }
   ],
   "source": [
    "q = pd.Period('2024Q1',freq='Y-JUL')\n",
    "f =q+2\n",
    "f"
   ]
  },
  {
   "cell_type": "code",
   "execution_count": 14,
   "id": "f3eadacd-5716-43b1-8b13-a936d1d06e07",
   "metadata": {},
   "outputs": [
    {
     "data": {
      "text/plain": [
       "Timestamp('2025-08-01 00:00:00')"
      ]
     },
     "execution_count": 14,
     "metadata": {},
     "output_type": "execute_result"
    }
   ],
   "source": [
    "f.start_time"
   ]
  },
  {
   "cell_type": "code",
   "execution_count": 15,
   "id": "79947668-e92c-42f6-a368-ac25f6a18bb5",
   "metadata": {},
   "outputs": [
    {
     "data": {
      "text/plain": [
       "Period('2026-07', 'M')"
      ]
     },
     "execution_count": 15,
     "metadata": {},
     "output_type": "execute_result"
    }
   ],
   "source": [
    "f.asfreq('M',how='end')"
   ]
  },
  {
   "cell_type": "code",
   "execution_count": 16,
   "id": "ae3403a3-8e9e-4022-ad78-9fb2cef7e410",
   "metadata": {},
   "outputs": [
    {
     "data": {
      "text/plain": [
       "<2 * YearEnds: month=7>"
      ]
     },
     "execution_count": 16,
     "metadata": {},
     "output_type": "execute_result"
    }
   ],
   "source": [
    "f -q"
   ]
  },
  {
   "cell_type": "code",
   "execution_count": 17,
   "id": "dc3caeb8-2619-4a34-afe5-7b0a940e4944",
   "metadata": {},
   "outputs": [
    {
     "data": {
      "text/plain": [
       "PeriodIndex(['2011Q2', '2011Q3', '2011Q4', '2012Q1', '2012Q2', '2012Q3',\n",
       "             '2012Q4', '2013Q1', '2013Q2', '2013Q3'],\n",
       "            dtype='period[Q-JUL]')"
      ]
     },
     "execution_count": 17,
     "metadata": {},
     "output_type": "execute_result"
    }
   ],
   "source": [
    "i = pd.period_range('2011',periods =10,freq='Q-JUL')\n",
    "i"
   ]
  },
  {
   "cell_type": "code",
   "execution_count": 18,
   "id": "bdaf9c91-8963-481f-8997-c77194ac84e5",
   "metadata": {},
   "outputs": [
    {
     "data": {
      "text/plain": [
       "Timestamp('2010-11-01 00:00:00')"
      ]
     },
     "execution_count": 18,
     "metadata": {},
     "output_type": "execute_result"
    }
   ],
   "source": [
    "i[0].start_time"
   ]
  },
  {
   "cell_type": "code",
   "execution_count": 19,
   "id": "71fafc96-5e97-43f0-a104-af86aca8ffab",
   "metadata": {},
   "outputs": [
    {
     "data": {
      "text/plain": [
       "Timestamp('2011-02-01 00:00:00')"
      ]
     },
     "execution_count": 19,
     "metadata": {},
     "output_type": "execute_result"
    }
   ],
   "source": [
    "i[1].start_time"
   ]
  },
  {
   "cell_type": "code",
   "execution_count": 20,
   "id": "d5c314d0-2fa1-46ff-aae3-26fac767de24",
   "metadata": {},
   "outputs": [
    {
     "data": {
      "text/plain": [
       "<QuarterEnd: startingMonth=7>"
      ]
     },
     "execution_count": 20,
     "metadata": {},
     "output_type": "execute_result"
    }
   ],
   "source": [
    "i[1]-i[0]"
   ]
  },
  {
   "cell_type": "code",
   "execution_count": 21,
   "id": "fc2d4ee1-88fd-4d69-9bc4-f6d0c9c09f5e",
   "metadata": {},
   "outputs": [
    {
     "data": {
      "text/plain": [
       "2011Q2    0.255366\n",
       "2011Q3   -0.680607\n",
       "2011Q4    0.306303\n",
       "2012Q1    0.994307\n",
       "2012Q2   -0.211725\n",
       "2012Q3   -0.974551\n",
       "2012Q4    0.300052\n",
       "2013Q1    0.141483\n",
       "2013Q2    0.437065\n",
       "2013Q3    0.394695\n",
       "Freq: Q-JUL, dtype: float64"
      ]
     },
     "execution_count": 21,
     "metadata": {},
     "output_type": "execute_result"
    }
   ],
   "source": [
    "import numpy as np\n",
    "ps = pd.Series(np.random.randn(len(i)),i) #len(i)=-1.740562 and i = 2011Q2\n",
    "ps"
   ]
  },
  {
   "cell_type": "code",
   "execution_count": 22,
   "id": "5e88f7e1-93b3-47d5-add2-6e569e984205",
   "metadata": {},
   "outputs": [
    {
     "data": {
      "text/plain": [
       "2011Q2    0.255366\n",
       "2011Q3   -0.680607\n",
       "2011Q4    0.306303\n",
       "2012Q1    0.994307\n",
       "2012Q2   -0.211725\n",
       "Freq: Q-JUL, dtype: float64"
      ]
     },
     "execution_count": 22,
     "metadata": {},
     "output_type": "execute_result"
    }
   ],
   "source": [
    "ps.loc['2011']#since our financial year started from july"
   ]
  },
  {
   "cell_type": "code",
   "execution_count": 23,
   "id": "e4e22d32-3796-49ed-ab48-525b583d087f",
   "metadata": {},
   "outputs": [
    {
     "data": {
      "text/plain": [
       "2010-11-01    0.255366\n",
       "2011-02-01   -0.680607\n",
       "2011-05-01    0.306303\n",
       "2011-08-01    0.994307\n",
       "2011-11-01   -0.211725\n",
       "2012-02-01   -0.974551\n",
       "2012-05-01    0.300052\n",
       "2012-08-01    0.141483\n",
       "2012-11-01    0.437065\n",
       "2013-02-01    0.394695\n",
       "Freq: QS-NOV, dtype: float64"
      ]
     },
     "execution_count": 23,
     "metadata": {},
     "output_type": "execute_result"
    }
   ],
   "source": [
    "pst = ps.to_timestamp() #converted datetime index from period\n",
    "pst"
   ]
  },
  {
   "cell_type": "code",
   "execution_count": 24,
   "id": "deeaa569-04bf-4235-a50f-0bed71bc9911",
   "metadata": {},
   "outputs": [
    {
     "data": {
      "text/plain": [
       "'C:\\\\Users\\\\Administrator\\\\AppData\\\\Local\\\\Programs\\\\Python\\\\Python312\\\\Lib\\\\site-packages\\\\pandas\\\\__init__.py'"
      ]
     },
     "execution_count": 24,
     "metadata": {},
     "output_type": "execute_result"
    }
   ],
   "source": [
    "import pandas\n",
    "(pandas.__file__)"
   ]
  },
  {
   "cell_type": "code",
   "execution_count": 25,
   "id": "424f751b-fef4-4154-b0c1-c2c1b9f5cfed",
   "metadata": {},
   "outputs": [
    {
     "data": {
      "text/plain": [
       "PeriodIndex(['2020Q2', '2020Q3', '2020Q4', '2021Q1', '2021Q2', '2021Q3',\n",
       "             '2021Q4', '2022Q1', '2022Q2', '2022Q3'],\n",
       "            dtype='period[Q-JUL]')"
      ]
     },
     "execution_count": 25,
     "metadata": {},
     "output_type": "execute_result"
    }
   ],
   "source": [
    "a = pd.period_range('2020',periods=10,freq='Q-JUL')\n",
    "a"
   ]
  },
  {
   "cell_type": "code",
   "execution_count": 33,
   "id": "aa24b309-2fd2-473b-84ce-3925ef5c34ce",
   "metadata": {},
   "outputs": [
    {
     "data": {
      "text/html": [
       "<div>\n",
       "<style scoped>\n",
       "    .dataframe tbody tr th:only-of-type {\n",
       "        vertical-align: middle;\n",
       "    }\n",
       "\n",
       "    .dataframe tbody tr th {\n",
       "        vertical-align: top;\n",
       "    }\n",
       "\n",
       "    .dataframe thead th {\n",
       "        text-align: right;\n",
       "    }\n",
       "</style>\n",
       "<table border=\"1\" class=\"dataframe\">\n",
       "  <thead>\n",
       "    <tr style=\"text-align: right;\">\n",
       "      <th></th>\n",
       "      <th>Date</th>\n",
       "      <th>Open</th>\n",
       "      <th>High</th>\n",
       "      <th>Low</th>\n",
       "      <th>Close</th>\n",
       "      <th>Adj Close</th>\n",
       "      <th>Volume</th>\n",
       "    </tr>\n",
       "  </thead>\n",
       "  <tbody>\n",
       "    <tr>\n",
       "      <th>0</th>\n",
       "      <td>4/10/2023</td>\n",
       "      <td>161.419998</td>\n",
       "      <td>162.029999</td>\n",
       "      <td>160.080002</td>\n",
       "      <td>162.029999</td>\n",
       "      <td>161.169724</td>\n",
       "      <td>47716900</td>\n",
       "    </tr>\n",
       "    <tr>\n",
       "      <th>1</th>\n",
       "      <td>4/11/2023</td>\n",
       "      <td>162.350006</td>\n",
       "      <td>162.360001</td>\n",
       "      <td>160.509995</td>\n",
       "      <td>160.800003</td>\n",
       "      <td>159.946259</td>\n",
       "      <td>47644200</td>\n",
       "    </tr>\n",
       "    <tr>\n",
       "      <th>2</th>\n",
       "      <td>4/12/2023</td>\n",
       "      <td>161.220001</td>\n",
       "      <td>162.059998</td>\n",
       "      <td>159.779999</td>\n",
       "      <td>160.100006</td>\n",
       "      <td>159.249985</td>\n",
       "      <td>50133100</td>\n",
       "    </tr>\n",
       "    <tr>\n",
       "      <th>3</th>\n",
       "      <td>4/13/2023</td>\n",
       "      <td>161.630005</td>\n",
       "      <td>165.800003</td>\n",
       "      <td>161.419998</td>\n",
       "      <td>165.559998</td>\n",
       "      <td>164.680969</td>\n",
       "      <td>68445600</td>\n",
       "    </tr>\n",
       "    <tr>\n",
       "      <th>4</th>\n",
       "      <td>4/14/2023</td>\n",
       "      <td>164.589996</td>\n",
       "      <td>166.320007</td>\n",
       "      <td>163.820007</td>\n",
       "      <td>165.210007</td>\n",
       "      <td>164.332840</td>\n",
       "      <td>49386500</td>\n",
       "    </tr>\n",
       "    <tr>\n",
       "      <th>...</th>\n",
       "      <td>...</td>\n",
       "      <td>...</td>\n",
       "      <td>...</td>\n",
       "      <td>...</td>\n",
       "      <td>...</td>\n",
       "      <td>...</td>\n",
       "      <td>...</td>\n",
       "    </tr>\n",
       "    <tr>\n",
       "      <th>248</th>\n",
       "      <td>4/4/2024</td>\n",
       "      <td>170.289993</td>\n",
       "      <td>171.919998</td>\n",
       "      <td>168.820007</td>\n",
       "      <td>168.820007</td>\n",
       "      <td>168.820007</td>\n",
       "      <td>53704400</td>\n",
       "    </tr>\n",
       "    <tr>\n",
       "      <th>249</th>\n",
       "      <td>4/5/2024</td>\n",
       "      <td>169.589996</td>\n",
       "      <td>170.389999</td>\n",
       "      <td>168.949997</td>\n",
       "      <td>169.580002</td>\n",
       "      <td>169.580002</td>\n",
       "      <td>42055200</td>\n",
       "    </tr>\n",
       "    <tr>\n",
       "      <th>250</th>\n",
       "      <td>4/8/2024</td>\n",
       "      <td>169.029999</td>\n",
       "      <td>169.199997</td>\n",
       "      <td>168.240005</td>\n",
       "      <td>168.449997</td>\n",
       "      <td>168.449997</td>\n",
       "      <td>37425500</td>\n",
       "    </tr>\n",
       "    <tr>\n",
       "      <th>251</th>\n",
       "      <td>4/9/2024</td>\n",
       "      <td>168.699997</td>\n",
       "      <td>170.080002</td>\n",
       "      <td>168.350006</td>\n",
       "      <td>169.669998</td>\n",
       "      <td>169.669998</td>\n",
       "      <td>42451200</td>\n",
       "    </tr>\n",
       "    <tr>\n",
       "      <th>252</th>\n",
       "      <td>4/10/2024</td>\n",
       "      <td>168.800003</td>\n",
       "      <td>169.089996</td>\n",
       "      <td>167.110001</td>\n",
       "      <td>167.779999</td>\n",
       "      <td>167.779999</td>\n",
       "      <td>49587200</td>\n",
       "    </tr>\n",
       "  </tbody>\n",
       "</table>\n",
       "<p>253 rows × 7 columns</p>\n",
       "</div>"
      ],
      "text/plain": [
       "          Date        Open        High         Low       Close   Adj Close  \\\n",
       "0    4/10/2023  161.419998  162.029999  160.080002  162.029999  161.169724   \n",
       "1    4/11/2023  162.350006  162.360001  160.509995  160.800003  159.946259   \n",
       "2    4/12/2023  161.220001  162.059998  159.779999  160.100006  159.249985   \n",
       "3    4/13/2023  161.630005  165.800003  161.419998  165.559998  164.680969   \n",
       "4    4/14/2023  164.589996  166.320007  163.820007  165.210007  164.332840   \n",
       "..         ...         ...         ...         ...         ...         ...   \n",
       "248   4/4/2024  170.289993  171.919998  168.820007  168.820007  168.820007   \n",
       "249   4/5/2024  169.589996  170.389999  168.949997  169.580002  169.580002   \n",
       "250   4/8/2024  169.029999  169.199997  168.240005  168.449997  168.449997   \n",
       "251   4/9/2024  168.699997  170.080002  168.350006  169.669998  169.669998   \n",
       "252  4/10/2024  168.800003  169.089996  167.110001  167.779999  167.779999   \n",
       "\n",
       "       Volume  \n",
       "0    47716900  \n",
       "1    47644200  \n",
       "2    50133100  \n",
       "3    68445600  \n",
       "4    49386500  \n",
       "..        ...  \n",
       "248  53704400  \n",
       "249  42055200  \n",
       "250  37425500  \n",
       "251  42451200  \n",
       "252  49587200  \n",
       "\n",
       "[253 rows x 7 columns]"
      ]
     },
     "execution_count": 33,
     "metadata": {},
     "output_type": "execute_result"
    }
   ],
   "source": [
    "r = pd.read_csv(r'E:\\newfile py\\AAPL.csv')\n",
    "r"
   ]
  },
  {
   "cell_type": "code",
   "execution_count": 1,
   "id": "eca3c139-d4ea-45bc-99b8-98f165a71744",
   "metadata": {},
   "outputs": [
    {
     "data": {
      "text/html": [
       "<div>\n",
       "<style scoped>\n",
       "    .dataframe tbody tr th:only-of-type {\n",
       "        vertical-align: middle;\n",
       "    }\n",
       "\n",
       "    .dataframe tbody tr th {\n",
       "        vertical-align: top;\n",
       "    }\n",
       "\n",
       "    .dataframe thead th {\n",
       "        text-align: right;\n",
       "    }\n",
       "</style>\n",
       "<table border=\"1\" class=\"dataframe\">\n",
       "  <thead>\n",
       "    <tr style=\"text-align: right;\">\n",
       "      <th></th>\n",
       "      <th>day</th>\n",
       "      <th>city</th>\n",
       "      <th>temperature</th>\n",
       "      <th>windspeed</th>\n",
       "      <th>event</th>\n",
       "    </tr>\n",
       "  </thead>\n",
       "  <tbody>\n",
       "    <tr>\n",
       "      <th>0</th>\n",
       "      <td>1/1/2017</td>\n",
       "      <td>NewYork</td>\n",
       "      <td>32.0</td>\n",
       "      <td>6</td>\n",
       "      <td>rainy</td>\n",
       "    </tr>\n",
       "    <tr>\n",
       "      <th>1</th>\n",
       "      <td>1/2/2017</td>\n",
       "      <td>NewYork</td>\n",
       "      <td>-9999.0</td>\n",
       "      <td>9</td>\n",
       "      <td>NaN</td>\n",
       "    </tr>\n",
       "    <tr>\n",
       "      <th>2</th>\n",
       "      <td>1/3/2017</td>\n",
       "      <td>mumbai</td>\n",
       "      <td>32.0</td>\n",
       "      <td>7</td>\n",
       "      <td>snow</td>\n",
       "    </tr>\n",
       "    <tr>\n",
       "      <th>3</th>\n",
       "      <td>1/4/2017</td>\n",
       "      <td>NewYork</td>\n",
       "      <td>34.0</td>\n",
       "      <td>8</td>\n",
       "      <td>rainy</td>\n",
       "    </tr>\n",
       "    <tr>\n",
       "      <th>4</th>\n",
       "      <td>1/5/2017</td>\n",
       "      <td>mumbai</td>\n",
       "      <td>-8888.0</td>\n",
       "      <td>12</td>\n",
       "      <td>sunny</td>\n",
       "    </tr>\n",
       "    <tr>\n",
       "      <th>5</th>\n",
       "      <td>1/6/2017</td>\n",
       "      <td>mumbai</td>\n",
       "      <td>20.0</td>\n",
       "      <td>13</td>\n",
       "      <td>cloudy</td>\n",
       "    </tr>\n",
       "    <tr>\n",
       "      <th>6</th>\n",
       "      <td>1/7/2017</td>\n",
       "      <td>dhaka</td>\n",
       "      <td>NaN</td>\n",
       "      <td>11</td>\n",
       "      <td>sunny</td>\n",
       "    </tr>\n",
       "    <tr>\n",
       "      <th>7</th>\n",
       "      <td>NaN</td>\n",
       "      <td>NaN</td>\n",
       "      <td>NaN</td>\n",
       "      <td></td>\n",
       "      <td>NaN</td>\n",
       "    </tr>\n",
       "  </tbody>\n",
       "</table>\n",
       "</div>"
      ],
      "text/plain": [
       "        day     city  temperature windspeed   event\n",
       "0  1/1/2017  NewYork         32.0         6   rainy\n",
       "1  1/2/2017  NewYork      -9999.0         9     NaN\n",
       "2  1/3/2017   mumbai         32.0         7    snow\n",
       "3  1/4/2017  NewYork         34.0         8   rainy\n",
       "4  1/5/2017   mumbai      -8888.0        12   sunny\n",
       "5  1/6/2017   mumbai         20.0        13  cloudy\n",
       "6  1/7/2017    dhaka          NaN        11   sunny\n",
       "7       NaN      NaN          NaN               NaN"
      ]
     },
     "execution_count": 1,
     "metadata": {},
     "output_type": "execute_result"
    }
   ],
   "source": [
    "import pandas as pd\n",
    "df = pd.read_csv('E:\\\\newfile py\\\\stat.csv')\n",
    "df"
   ]
  },
  {
   "cell_type": "code",
   "execution_count": 2,
   "id": "78a3c557-5d71-4c03-a8e4-49931961b35f",
   "metadata": {},
   "outputs": [
    {
     "data": {
      "text/plain": [
       "str"
      ]
     },
     "execution_count": 2,
     "metadata": {},
     "output_type": "execute_result"
    }
   ],
   "source": [
    "type(df.city[0])"
   ]
  },
  {
   "cell_type": "code",
   "execution_count": 3,
   "id": "3f48a9f7-0061-4996-9e75-ad35dd055fef",
   "metadata": {},
   "outputs": [
    {
     "data": {
      "text/plain": [
       "array(['NewYork', 'mumbai', 'dhaka', nan], dtype=object)"
      ]
     },
     "execution_count": 3,
     "metadata": {},
     "output_type": "execute_result"
    }
   ],
   "source": [
    "df['city'].unique()"
   ]
  },
  {
   "cell_type": "code",
   "execution_count": null,
   "id": "51c08880-30aa-447f-9fb1-e5ee1977e8c9",
   "metadata": {},
   "outputs": [],
   "source": []
  }
 ],
 "metadata": {
  "kernelspec": {
   "display_name": "Python 3 (ipykernel)",
   "language": "python",
   "name": "python3"
  },
  "language_info": {
   "codemirror_mode": {
    "name": "ipython",
    "version": 3
   },
   "file_extension": ".py",
   "mimetype": "text/x-python",
   "name": "python",
   "nbconvert_exporter": "python",
   "pygments_lexer": "ipython3",
   "version": "3.12.2"
  }
 },
 "nbformat": 4,
 "nbformat_minor": 5
}
