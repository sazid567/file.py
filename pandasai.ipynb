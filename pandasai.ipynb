{
 "cells": [
  {
   "cell_type": "code",
   "execution_count": 23,
   "id": "411c3dee-802f-414c-9406-20f3da55f3b0",
   "metadata": {},
   "outputs": [
    {
     "data": {
      "text/html": [
       "<div>\n",
       "<style scoped>\n",
       "    .dataframe tbody tr th:only-of-type {\n",
       "        vertical-align: middle;\n",
       "    }\n",
       "\n",
       "    .dataframe tbody tr th {\n",
       "        vertical-align: top;\n",
       "    }\n",
       "\n",
       "    .dataframe thead th {\n",
       "        text-align: right;\n",
       "    }\n",
       "</style>\n",
       "<table border=\"1\" class=\"dataframe\">\n",
       "  <thead>\n",
       "    <tr style=\"text-align: right;\">\n",
       "      <th></th>\n",
       "      <th>day</th>\n",
       "      <th>city</th>\n",
       "      <th>temperature</th>\n",
       "      <th>windspeed</th>\n",
       "      <th>event</th>\n",
       "    </tr>\n",
       "  </thead>\n",
       "  <tbody>\n",
       "    <tr>\n",
       "      <th>0</th>\n",
       "      <td>1/1/2017</td>\n",
       "      <td>NewYork</td>\n",
       "      <td>32.0</td>\n",
       "      <td>6</td>\n",
       "      <td>rainy</td>\n",
       "    </tr>\n",
       "    <tr>\n",
       "      <th>1</th>\n",
       "      <td>1/2/2017</td>\n",
       "      <td>NewYork</td>\n",
       "      <td>30.0</td>\n",
       "      <td>9</td>\n",
       "      <td>snow</td>\n",
       "    </tr>\n",
       "    <tr>\n",
       "      <th>2</th>\n",
       "      <td>1/3/2017</td>\n",
       "      <td>mumbai</td>\n",
       "      <td>32.0</td>\n",
       "      <td>7</td>\n",
       "      <td>snow</td>\n",
       "    </tr>\n",
       "    <tr>\n",
       "      <th>3</th>\n",
       "      <td>1/4/2017</td>\n",
       "      <td>NewYork</td>\n",
       "      <td>34.0</td>\n",
       "      <td>8</td>\n",
       "      <td>rainy</td>\n",
       "    </tr>\n",
       "    <tr>\n",
       "      <th>4</th>\n",
       "      <td>1/5/2017</td>\n",
       "      <td>mumbai</td>\n",
       "      <td>25.0</td>\n",
       "      <td>12</td>\n",
       "      <td>sunny</td>\n",
       "    </tr>\n",
       "    <tr>\n",
       "      <th>5</th>\n",
       "      <td>1/6/2017</td>\n",
       "      <td>mumbai</td>\n",
       "      <td>20.0</td>\n",
       "      <td>13</td>\n",
       "      <td>cloudy</td>\n",
       "    </tr>\n",
       "    <tr>\n",
       "      <th>6</th>\n",
       "      <td>1/7/2017</td>\n",
       "      <td>dhaka</td>\n",
       "      <td>26.0</td>\n",
       "      <td>11</td>\n",
       "      <td>sunny</td>\n",
       "    </tr>\n",
       "    <tr>\n",
       "      <th>7</th>\n",
       "      <td>NaN</td>\n",
       "      <td>NaN</td>\n",
       "      <td>NaN</td>\n",
       "      <td></td>\n",
       "      <td>NaN</td>\n",
       "    </tr>\n",
       "  </tbody>\n",
       "</table>\n",
       "</div>"
      ],
      "text/plain": [
       "        day     city  temperature windspeed   event\n",
       "0  1/1/2017  NewYork         32.0         6   rainy\n",
       "1  1/2/2017  NewYork         30.0         9    snow\n",
       "2  1/3/2017   mumbai         32.0         7    snow\n",
       "3  1/4/2017  NewYork         34.0         8   rainy\n",
       "4  1/5/2017   mumbai         25.0        12   sunny\n",
       "5  1/6/2017   mumbai         20.0        13  cloudy\n",
       "6  1/7/2017    dhaka         26.0        11   sunny\n",
       "7       NaN      NaN          NaN               NaN"
      ]
     },
     "execution_count": 23,
     "metadata": {},
     "output_type": "execute_result"
    }
   ],
   "source": [
    "import pandas as pd\n",
    "df = pd.read_csv('E:\\\\newfile py\\\\stat.csv')\n",
    "df"
   ]
  },
  {
   "cell_type": "code",
   "execution_count": 24,
   "id": "2581114a-1e88-4578-8cd8-d3e8634a806b",
   "metadata": {},
   "outputs": [
    {
     "data": {
      "text/plain": [
       "\"The cities in the 'city' column are: NewYork, mumbai, dhaka.\""
      ]
     },
     "execution_count": 24,
     "metadata": {},
     "output_type": "execute_result"
    }
   ],
   "source": [
    "import os\n",
    "import pandas as pd\n",
    "from pandasai import SmartDataframe\n",
    "\n",
    "# Set the file path of your data file\n",
    "file_path = \"E:\\\\newfile py\\\\stat.csv\"  # Update this with the actual file path\n",
    "\n",
    "# Load the DataFrame from the file\n",
    "sales_by_country = pd.read_csv(file_path)  # Change this according to your file format if it's not CSV\n",
    "\n",
    "# By default, unless you choose a different LLM, it will use BambooLLM.\n",
    "# You can get your free API key signing up at https://pandabi.ai (you can also configure it in your .env file)\n",
    "os.environ[\"PANDASAI_API_KEY\"] = \"$2a$10$RDp2dXJo980NFNLJ8ZtwauksnlixOGKCaspOfFQUQK902tMoW93G.\"\n",
    "\n",
    "df = SmartDataframe(sales_by_country)\n",
    "df.chat('Which city are in city?')\n",
    "# Output: Will display the top 5 countries by sales based on the data loaded from the file\n"
   ]
  },
  {
   "cell_type": "code",
   "execution_count": 25,
   "id": "9307c708-0707-422e-ba7f-e270ec070429",
   "metadata": {},
   "outputs": [
    {
     "data": {
      "text/plain": [
       "32.0"
      ]
     },
     "execution_count": 25,
     "metadata": {},
     "output_type": "execute_result"
    }
   ],
   "source": [
    "df.chat('calculate the mean temperature for NewYork in city')"
   ]
  },
  {
   "cell_type": "code",
   "execution_count": 26,
   "id": "0dad5414-7c4b-4d95-9bc3-d1b70d616557",
   "metadata": {},
   "outputs": [
    {
     "data": {
      "text/plain": [
       "'C:/Users/Administrator/AppData/Local/Programs/Python/Python312/exports/charts/temp_chart.png'"
      ]
     },
     "execution_count": 26,
     "metadata": {},
     "output_type": "execute_result"
    },
    {
     "data": {
      "image/png": "[encoded data removed]",
      "text/plain": [
       "<Figure size 800x600 with 1 Axes>"
      ]
     },
     "metadata": {},
     "output_type": "display_data"
    }
   ],
   "source": [
    "df.chat('plot a barplot that shows the mean temperature for each city')"
   ]
  },
  {
   "cell_type": "code",
   "execution_count": 28,
   "id": "062cd37a-4ec5-4214-88a9-40bee8b38514",
   "metadata": {},
   "outputs": [
    {
     "data": {
      "text/plain": [
       "<pandasai.smart_dataframe.SmartDataframe at 0x234f4a26b10>"
      ]
     },
     "execution_count": 28,
     "metadata": {},
     "output_type": "execute_result"
    }
   ],
   "source": []
  },
  {
   "cell_type": "code",
   "execution_count": 31,
   "id": "9d867a21-c99f-47c8-bb84-aab0323b38fa",
   "metadata": {},
   "outputs": [
    {
     "data": {
      "text/plain": [
       "\"The datatype of df['city'][0] is <class 'str'>.\""
      ]
     },
     "execution_count": 31,
     "metadata": {},
     "output_type": "execute_result"
    }
   ],
   "source": [
    "df.chat('what datatype is df.city[0]')"
   ]
  },
  {
   "cell_type": "code",
   "execution_count": null,
   "id": "ff0a1edd-2dfe-49f6-8d5b-e4893fb561f1",
   "metadata": {},
   "outputs": [],
   "source": [
    "df"
   ]
  }
 ],
 "metadata": {
  "kernelspec": {
   "display_name": "Python 3 (ipykernel)",
   "language": "python",
   "name": "python3"
  },
  "language_info": {
   "codemirror_mode": {
    "name": "ipython",
    "version": 3
   },
   "file_extension": ".py",
   "mimetype": "text/x-python",
   "name": "python",
   "nbconvert_exporter": "python",
   "pygments_lexer": "ipython3",
   "version": "3.12.2"
  }
 },
 "nbformat": 4,
 "nbformat_minor": 5
}
